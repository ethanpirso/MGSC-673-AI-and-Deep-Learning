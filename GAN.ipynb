{
 "cells": [
  {
   "cell_type": "code",
   "execution_count": 5,
   "metadata": {},
   "outputs": [],
   "source": [
    "import torch\n",
    "from torch import nn\n",
    "from torchvision import datasets, transforms\n",
    "import matplotlib.pyplot as plt"
   ]
  },
  {
   "cell_type": "code",
   "execution_count": null,
   "metadata": {},
   "outputs": [],
   "source": [
    "# Define the Generator\n",
    "class Generator(nn.Module):\n",
    "    def __init__(self, z_dim, img_dim, device):\n",
    "        super(Generator, self).__init__()\n",
    "        self.gen = nn.Sequential(\n",
    "            nn.Linear(z_dim, 256),\n",
    "            nn.LeakyReLU(0.01),\n",
    "            nn.Linear(256, 512),\n",
    "            nn.LeakyReLU(0.01),\n",
    "            nn.Linear(512, 1024),\n",
    "            nn.LeakyReLU(0.01),\n",
    "            nn.Linear(1024, img_dim),\n",
    "            nn.Tanh()\n",
    "        ).to(device)\n",
    "\n",
    "    def forward(self, x):\n",
    "        return self.gen(x)"
   ]
  },
  {
   "cell_type": "code",
   "execution_count": null,
   "metadata": {},
   "outputs": [],
   "source": [
    "# Define the Discriminator\n",
    "class Discriminator(nn.Module):\n",
    "    def __init__(self, img_dim, device):\n",
    "        super(Discriminator, self).__init__()\n",
    "        self.disc = nn.Sequential(\n",
    "            nn.Linear(img_dim, 1024),\n",
    "            nn.LeakyReLU(0.01),\n",
    "            nn.Dropout(0.3),\n",
    "            nn.Linear(1024, 512),\n",
    "            nn.LeakyReLU(0.01),\n",
    "            nn.Dropout(0.3),\n",
    "            nn.Linear(512, 256),\n",
    "            nn.LeakyReLU(0.01),\n",
    "            nn.Dropout(0.3),\n",
    "            nn.Linear(256, 1),\n",
    "            nn.Sigmoid()\n",
    "        ).to(device)\n",
    "\n",
    "    def forward(self, x):\n",
    "        return self.disc(x)"
   ]
  },
  {
   "cell_type": "code",
   "execution_count": null,
   "metadata": {},
   "outputs": [],
   "source": [
    "# Hyperparameters\n",
    "lr = 0.0002\n",
    "z_dim = 64  # Size of the noise vector\n",
    "image_dim = 28 * 28 * 1  # 784\n",
    "batch_size = 32\n",
    "num_epochs = 50\n",
    "device = torch.device(\"cuda:0\" if torch.cuda.is_available() else \"cpu\")"
   ]
  },
  {
   "cell_type": "code",
   "execution_count": null,
   "metadata": {},
   "outputs": [],
   "source": [
    "# Initialize generator and discriminator\n",
    "gen = Generator(z_dim, image_dim, device)\n",
    "disc = Discriminator(image_dim, device)"
   ]
  },
  {
   "cell_type": "code",
   "execution_count": null,
   "metadata": {},
   "outputs": [],
   "source": [
    "# Loss and optimizers\n",
    "criterion = nn.BCELoss()\n",
    "gen_optimizer = torch.optim.Adam(gen.parameters(), lr=lr)\n",
    "disc_optimizer = torch.optim.Adam(disc.parameters(), lr=lr)"
   ]
  },
  {
   "cell_type": "code",
   "execution_count": null,
   "metadata": {},
   "outputs": [],
   "source": [
    "# Load Data\n",
    "transform = transforms.Compose([\n",
    "    transforms.ToTensor(),\n",
    "    transforms.Normalize((0.5,), (0.5,)),\n",
    "])\n",
    "\n",
    "dataset = datasets.MNIST(root=\"dataset/\", transform=transform, download=True)\n",
    "loader = torch.utils.data.DataLoader(dataset, batch_size=batch_size, shuffle=True)"
   ]
  },
  {
   "cell_type": "code",
   "execution_count": 4,
   "metadata": {},
   "outputs": [
    {
     "name": "stdout",
     "output_type": "stream",
     "text": [
      "Epoch [0/50] \t Loss D: 0.6935, loss G: 0.6791\n",
      "Epoch [1/50] \t Loss D: 0.1198, loss G: 3.6974\n",
      "Epoch [2/50] \t Loss D: 0.1468, loss G: 4.4236\n",
      "Epoch [3/50] \t Loss D: 0.2120, loss G: 3.3810\n",
      "Epoch [4/50] \t Loss D: 0.1823, loss G: 2.8035\n",
      "Epoch [5/50] \t Loss D: 0.2314, loss G: 2.1238\n",
      "Epoch [6/50] \t Loss D: 0.2957, loss G: 3.3819\n",
      "Epoch [7/50] \t Loss D: 0.2825, loss G: 2.1303\n",
      "Epoch [8/50] \t Loss D: 0.3632, loss G: 1.8318\n",
      "Epoch [9/50] \t Loss D: 0.6302, loss G: 1.6953\n",
      "Epoch [10/50] \t Loss D: 0.4953, loss G: 1.2108\n",
      "Epoch [11/50] \t Loss D: 0.5603, loss G: 1.4226\n",
      "Epoch [12/50] \t Loss D: 0.6395, loss G: 1.2752\n",
      "Epoch [13/50] \t Loss D: 0.4648, loss G: 1.2721\n",
      "Epoch [14/50] \t Loss D: 0.6095, loss G: 1.0257\n",
      "Epoch [15/50] \t Loss D: 0.6666, loss G: 0.9718\n",
      "Epoch [16/50] \t Loss D: 0.7078, loss G: 0.9582\n",
      "Epoch [17/50] \t Loss D: 0.5829, loss G: 1.2100\n",
      "Epoch [18/50] \t Loss D: 0.5880, loss G: 1.1103\n",
      "Epoch [19/50] \t Loss D: 0.4963, loss G: 1.1781\n",
      "Epoch [20/50] \t Loss D: 0.5317, loss G: 0.9811\n",
      "Epoch [21/50] \t Loss D: 0.5256, loss G: 1.0449\n",
      "Epoch [22/50] \t Loss D: 0.5112, loss G: 1.1132\n",
      "Epoch [23/50] \t Loss D: 0.5884, loss G: 1.0808\n",
      "Epoch [24/50] \t Loss D: 0.5763, loss G: 1.0144\n",
      "Epoch [25/50] \t Loss D: 0.5700, loss G: 0.7834\n",
      "Epoch [26/50] \t Loss D: 0.6143, loss G: 0.7436\n",
      "Epoch [27/50] \t Loss D: 0.5759, loss G: 1.0109\n",
      "Epoch [28/50] \t Loss D: 0.5128, loss G: 1.0003\n",
      "Epoch [29/50] \t Loss D: 0.5739, loss G: 1.0160\n",
      "Epoch [30/50] \t Loss D: 0.6352, loss G: 1.0326\n",
      "Epoch [31/50] \t Loss D: 0.6190, loss G: 0.9581\n",
      "Epoch [32/50] \t Loss D: 0.7208, loss G: 0.8463\n",
      "Epoch [33/50] \t Loss D: 0.6139, loss G: 0.9760\n",
      "Epoch [34/50] \t Loss D: 0.6713, loss G: 0.9490\n",
      "Epoch [35/50] \t Loss D: 0.6059, loss G: 1.0913\n",
      "Epoch [36/50] \t Loss D: 0.5965, loss G: 1.0620\n",
      "Epoch [37/50] \t Loss D: 0.5901, loss G: 1.0858\n",
      "Epoch [38/50] \t Loss D: 0.5701, loss G: 0.8703\n",
      "Epoch [39/50] \t Loss D: 0.6003, loss G: 0.8705\n",
      "Epoch [40/50] \t Loss D: 0.6125, loss G: 0.9263\n",
      "Epoch [41/50] \t Loss D: 0.6619, loss G: 0.9523\n",
      "Epoch [42/50] \t Loss D: 0.6225, loss G: 0.9656\n",
      "Epoch [43/50] \t Loss D: 0.6629, loss G: 1.0414\n",
      "Epoch [44/50] \t Loss D: 0.6228, loss G: 0.8839\n",
      "Epoch [45/50] \t Loss D: 0.5943, loss G: 0.8673\n",
      "Epoch [46/50] \t Loss D: 0.6218, loss G: 0.8965\n",
      "Epoch [47/50] \t Loss D: 0.6272, loss G: 0.8650\n",
      "Epoch [48/50] \t Loss D: 0.6068, loss G: 1.0102\n",
      "Epoch [49/50] \t Loss D: 0.5372, loss G: 0.9787\n"
     ]
    }
   ],
   "source": [
    "# Training Loop\n",
    "for epoch in range(num_epochs):\n",
    "    for batch_idx, (real, _) in enumerate(loader):\n",
    "        real = real.view(-1, 784).to(device)\n",
    "        batch_size = real.shape[0]\n",
    "\n",
    "        ### Train Discriminator: max log(D(real)) + log(1 - D(G(z)))\n",
    "        noise = torch.randn(batch_size, z_dim, device=device)\n",
    "        fake = gen(noise)\n",
    "        disc_real = disc(real).view(-1)\n",
    "        lossD_real = criterion(disc_real, torch.ones_like(disc_real))\n",
    "        disc_fake = disc(fake).view(-1)\n",
    "        lossD_fake = criterion(disc_fake, torch.zeros_like(disc_fake))\n",
    "        lossD = (lossD_real + lossD_fake) / 2\n",
    "        disc.zero_grad()\n",
    "        lossD.backward(retain_graph=True)\n",
    "        disc_optimizer.step()\n",
    "\n",
    "        ### Train Generator: min log(1 - D(G(z))) <-> max log(D(G(z)))\n",
    "        output = disc(fake).view(-1)\n",
    "        lossG = criterion(output, torch.ones_like(output))\n",
    "        gen.zero_grad()\n",
    "        lossG.backward()\n",
    "        gen_optimizer.step()\n",
    "\n",
    "        if batch_idx == 0:\n",
    "            print(f\"Epoch [{epoch}/{num_epochs}] \\t Loss D: {lossD:.4f}, loss G: {lossG:.4f}\")\n"
   ]
  },
  {
   "cell_type": "code",
   "execution_count": 6,
   "metadata": {},
   "outputs": [
    {
     "data": {
      "image/png": "[encoded data removed]",
      "text/plain": [
       "<Figure size 1000x1000 with 16 Axes>"
      ]
     },
     "metadata": {},
     "output_type": "display_data"
    }
   ],
   "source": [
    "# Generate some images with the trained GAN\n",
    "with torch.no_grad():\n",
    "    # Generate noise vector\n",
    "    test_noise = torch.randn(batch_size, z_dim, device=device)\n",
    "    # Generate images from noise\n",
    "    generated_images = gen(test_noise).view(-1, 1, 28, 28)\n",
    "    # Move images to CPU and convert to numpy for visualization\n",
    "    generated_images = generated_images.cpu().numpy()\n",
    "\n",
    "# Plot the generated images\n",
    "fig, axes = plt.subplots(figsize=(10, 10), nrows=4, ncols=4, sharey=True, sharex=True)\n",
    "for ax, img in zip(axes.flatten(), generated_images):\n",
    "    ax.xaxis.set_visible(False)\n",
    "    ax.yaxis.set_visible(False)\n",
    "    im = ax.imshow(img.reshape((28,28)), cmap='gray_r')\n",
    "\n",
    "plt.subplots_adjust(wspace=0, hspace=0)\n",
    "plt.show()"
   ]
  }
 ],
 "metadata": {
  "kernelspec": {
   "display_name": "Python 3",
   "language": "python",
   "name": "python3"
  },
  "language_info": {
   "codemirror_mode": {
    "name": "ipython",
    "version": 3
   },
   "file_extension": ".py",
   "mimetype": "text/x-python",
   "name": "python",
   "nbconvert_exporter": "python",
   "pygments_lexer": "ipython3",
   "version": "3.11.4"
  }
 },
 "nbformat": 4,
 "nbformat_minor": 2
}
